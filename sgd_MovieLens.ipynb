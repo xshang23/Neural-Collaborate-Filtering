{
 "cells": [
  {
   "cell_type": "code",
   "execution_count": 1,
   "metadata": {},
   "outputs": [],
   "source": [
    "import numpy as np\n",
    "import pandas as pd\n",
    "from time import time\n",
    "import matplotlib.pyplot as plt"
   ]
  },
  {
   "cell_type": "code",
   "execution_count": 2,
   "metadata": {},
   "outputs": [
    {
     "data": {
      "text/html": [
       "<div>\n",
       "<style scoped>\n",
       "    .dataframe tbody tr th:only-of-type {\n",
       "        vertical-align: middle;\n",
       "    }\n",
       "\n",
       "    .dataframe tbody tr th {\n",
       "        vertical-align: top;\n",
       "    }\n",
       "\n",
       "    .dataframe thead th {\n",
       "        text-align: right;\n",
       "    }\n",
       "</style>\n",
       "<table border=\"1\" class=\"dataframe\">\n",
       "  <thead>\n",
       "    <tr style=\"text-align: right;\">\n",
       "      <th></th>\n",
       "      <th>userId</th>\n",
       "      <th>movieId</th>\n",
       "      <th>rating</th>\n",
       "      <th>timestamp</th>\n",
       "    </tr>\n",
       "  </thead>\n",
       "  <tbody>\n",
       "    <tr>\n",
       "      <th>0</th>\n",
       "      <td>196</td>\n",
       "      <td>242</td>\n",
       "      <td>3</td>\n",
       "      <td>881250949</td>\n",
       "    </tr>\n",
       "    <tr>\n",
       "      <th>1</th>\n",
       "      <td>186</td>\n",
       "      <td>302</td>\n",
       "      <td>3</td>\n",
       "      <td>891717742</td>\n",
       "    </tr>\n",
       "    <tr>\n",
       "      <th>2</th>\n",
       "      <td>22</td>\n",
       "      <td>377</td>\n",
       "      <td>1</td>\n",
       "      <td>878887116</td>\n",
       "    </tr>\n",
       "    <tr>\n",
       "      <th>3</th>\n",
       "      <td>244</td>\n",
       "      <td>51</td>\n",
       "      <td>2</td>\n",
       "      <td>880606923</td>\n",
       "    </tr>\n",
       "    <tr>\n",
       "      <th>4</th>\n",
       "      <td>166</td>\n",
       "      <td>346</td>\n",
       "      <td>1</td>\n",
       "      <td>886397596</td>\n",
       "    </tr>\n",
       "  </tbody>\n",
       "</table>\n",
       "</div>"
      ],
      "text/plain": [
       "   userId  movieId  rating  timestamp\n",
       "0     196      242       3  881250949\n",
       "1     186      302       3  891717742\n",
       "2      22      377       1  878887116\n",
       "3     244       51       2  880606923\n",
       "4     166      346       1  886397596"
      ]
     },
     "execution_count": 2,
     "metadata": {},
     "output_type": "execute_result"
    }
   ],
   "source": [
    "df = pd.read_csv('ml-100k.csv')\n",
    "df.head()"
   ]
  },
  {
   "cell_type": "code",
   "execution_count": 3,
   "metadata": {},
   "outputs": [
    {
     "data": {
      "text/plain": [
       "100000"
      ]
     },
     "execution_count": 3,
     "metadata": {},
     "output_type": "execute_result"
    }
   ],
   "source": [
    "len(df['rating'])"
   ]
  },
  {
   "cell_type": "code",
   "execution_count": 4,
   "metadata": {},
   "outputs": [],
   "source": [
    "# load data\n",
    "data = list(zip(df['userId'], df['movieId'], df['rating']))\n",
    "\n",
    "np.random.shuffle(data)\n",
    "bg = df['rating'][: int(len(data)*0.8)].mean()\n",
    "train = data[0: int(len(data)*0.8)]\n",
    "test = data[len(train):]\n",
    "n_users = df['userId'].max()\n",
    "n_items = df['movieId'].max()"
   ]
  },
  {
   "cell_type": "code",
   "execution_count": 5,
   "metadata": {},
   "outputs": [],
   "source": [
    "def MSE(U,V,bi,bu,bg,test):\n",
    "    mse = 0.0\n",
    "    for t in test:\n",
    "        u = t[0]-1\n",
    "        i = t[1]-1\n",
    "        r = t[2]\n",
    "        r_hat = bg + bu[u] + bi[i] + np.dot(U[u],V[i].T)\n",
    "        mse += (r-r_hat)**2\n",
    "    mse = mse/len(test)\n",
    "    return mse"
   ]
  },
  {
   "cell_type": "code",
   "execution_count": 6,
   "metadata": {},
   "outputs": [],
   "source": [
    "def MAE(U,V,bi,bu,bg,test):\n",
    "    mae = 0.0\n",
    "    for t in test:\n",
    "        u = t[0]-1\n",
    "        i = t[1]-1\n",
    "        r = t[2]\n",
    "        r_hat = bg + bu[u] + bi[i] + np.dot(U[u],V[i].T)\n",
    "        mae += abs(r-r_hat)\n",
    "    mae /= len(test)\n",
    "    return mae"
   ]
  },
  {
   "cell_type": "code",
   "execution_count": 7,
   "metadata": {},
   "outputs": [
    {
     "name": "stdout",
     "output_type": "stream",
     "text": [
      "73.52295017242432\n"
     ]
    }
   ],
   "source": [
    "# train: train data\n",
    "# test: test data\n",
    "# n_users:the number of users\n",
    "# n_items:the number of items\n",
    "# K: the number of latent factor\n",
    "# eta: the learning rate\n",
    "# reg: regularization parameters\n",
    "# bi, bu, bg: bias for items, users and global\n",
    "# iterations: the max iteration\n",
    "start = time()\n",
    "K = 100\n",
    "iterations = 40\n",
    "eta = 0.005 # learning rate\n",
    "reg = 0.01\n",
    "\n",
    "U = np.random.normal(scale=3./K,size=(n_users, K))\n",
    "V = np.random.normal(scale=3./K,size=(n_items, K))\n",
    "bi = np.zeros(n_items)   # items bias\n",
    "bu = np.zeros(n_users)    # users bias\n",
    "L = 1000.0\n",
    "\n",
    "mae=[]\n",
    "mse=[]\n",
    "loss=[]\n",
    "step = 0\n",
    "while step < iterations:\n",
    "    step += 1\n",
    "    l=0.0\n",
    "    for dat in train:\n",
    "        u = dat[0]-1\n",
    "        i = dat[1]-1\n",
    "        r = dat[2]\n",
    "\n",
    "        r_hat = bg + bu[u] + bi[i] + np.dot(U[u],V[i].T) \n",
    "        e = r - r_hat \n",
    "        l += e**2 + reg * (bi[i]**2 + bu[u]**2 + np.square(U[u]).sum() + np.square(V[i]).sum())\n",
    "\n",
    "        bu[u] += eta * (e - reg * bu[u])\n",
    "        bi[i] += eta * (e - reg * bi[i])\n",
    "        U[u] += eta * (e * V[i] - reg * U[u])\n",
    "        V[i] += eta * (e * U[u] - reg * V[i])\n",
    "\n",
    "\n",
    "    loss.append(l)\n",
    "    mse.append(MSE(U,V,bi,bu,bg,test))\n",
    "    m = MAE(U,V,bi,bu,bg,test)\n",
    "    \n",
    "    if len(mae)!=0 and mae[-1]<m: break\n",
    "    mae.append(m)\n",
    "    if step%10==0: print(step)\n",
    "    \n",
    "    step+=1\n",
    "print(time()-start)"
   ]
  },
  {
   "cell_type": "code",
   "execution_count": 8,
   "metadata": {},
   "outputs": [
    {
     "data": {
      "image/png": "[encoded data removed]",
      "text/plain": [
       "<Figure size 432x288 with 1 Axes>"
      ]
     },
     "metadata": {
      "needs_background": "light"
     },
     "output_type": "display_data"
    }
   ],
   "source": [
    "fig1 = plt.figure('LOSS')\n",
    "x = range(len(loss))\n",
    "plt.plot(x, loss, color='g',linewidth=3)\n",
    "plt.title('Convergence curve')\n",
    "plt.xlabel('Iterations')\n",
    "plt.ylabel('Loss')\n",
    "plt.show()"
   ]
  },
  {
   "cell_type": "code",
   "execution_count": 9,
   "metadata": {},
   "outputs": [
    {
     "data": {
      "image/png": "[encoded data removed]",
      "text/plain": [
       "<Figure size 432x288 with 1 Axes>"
      ]
     },
     "metadata": {
      "needs_background": "light"
     },
     "output_type": "display_data"
    }
   ],
   "source": [
    "fig2 = plt.figure('MSE')\n",
    "x = range(len(mse))\n",
    "plt.plot(x, mse, color='r',linewidth=3)\n",
    "plt.title('Convergence curve')\n",
    "plt.xlabel('Iterations')\n",
    "plt.ylabel('MSE')\n",
    "plt.show()"
   ]
  },
  {
   "cell_type": "code",
   "execution_count": 10,
   "metadata": {},
   "outputs": [
    {
     "data": {
      "image/png": "[encoded data removed]",
      "text/plain": [
       "<Figure size 432x288 with 1 Axes>"
      ]
     },
     "metadata": {
      "needs_background": "light"
     },
     "output_type": "display_data"
    }
   ],
   "source": [
    "fig3 = plt.figure('MAE')\n",
    "x = range(len(mae))\n",
    "plt.plot(x, mae, color='r',linewidth=3)\n",
    "plt.title('Convergence curve')\n",
    "plt.xlabel('Iterations')\n",
    "plt.ylabel('MAE')\n",
    "plt.show()"
   ]
  },
  {
   "cell_type": "code",
   "execution_count": 11,
   "metadata": {},
   "outputs": [
    {
     "name": "stdout",
     "output_type": "stream",
     "text": [
      "MSE: 0.8819615049765933\n",
      "MAE: 0.7416024350394591\n"
     ]
    }
   ],
   "source": [
    "print('MSE:', mse[-1])\n",
    "print('MAE:', mae[-1])"
   ]
  },
  {
   "cell_type": "code",
   "execution_count": null,
   "metadata": {},
   "outputs": [],
   "source": []
  }
 ],
 "metadata": {
  "kernelspec": {
   "display_name": "Python 3",
   "language": "python",
   "name": "python3"
  },
  "language_info": {
   "codemirror_mode": {
    "name": "ipython",
    "version": 3
   },
   "file_extension": ".py",
   "mimetype": "text/x-python",
   "name": "python",
   "nbconvert_exporter": "python",
   "pygments_lexer": "ipython3",
   "version": "3.8.6"
  }
 },
 "nbformat": 4,
 "nbformat_minor": 4
}
