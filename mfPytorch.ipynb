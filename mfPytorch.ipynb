{
 "cells": [
  {
   "cell_type": "code",
   "execution_count": 1,
   "metadata": {},
   "outputs": [],
   "source": [
    "import numpy as np\n",
    "import pandas as pd\n",
    "import torch\n",
    "from torch import nn\n",
    "from torch.autograd import Variable\n",
    "from time import time\n",
    "import torch.utils.data as data\n",
    "import matplotlib.pyplot as plt"
   ]
  },
  {
   "cell_type": "code",
   "execution_count": 2,
   "metadata": {},
   "outputs": [],
   "source": [
    "df = pd.read_csv('train1.csv')\n",
    "df2 = pd.read_csv('testAll.csv')"
   ]
  },
  {
   "cell_type": "code",
   "execution_count": 3,
   "metadata": {},
   "outputs": [],
   "source": [
    "class RatingDataset(data.Dataset):\n",
    "    def __init__(self, features, ratings):\n",
    "        self.feature = features\n",
    "        self.rating = ratings\n",
    "    \n",
    "    def __len__(self):\n",
    "        return len(self.feature)\n",
    "    \n",
    "    def __getitem__(self, idx):\n",
    "        return torch.tensor(self.feature[idx]),torch.tensor(self.rating[idx])  "
   ]
  },
  {
   "cell_type": "code",
   "execution_count": 4,
   "metadata": {},
   "outputs": [
    {
     "data": {
      "text/plain": [
       "(500, 1000)"
      ]
     },
     "execution_count": 4,
     "metadata": {},
     "output_type": "execute_result"
    }
   ],
   "source": [
    "# load data\n",
    "train = RatingDataset(list(zip(df['userId']-1, df['movieId']-1)), df['rating']*1.0)\n",
    "test = RatingDataset(list(zip(df2['userId']-1, df2['movieId']-1)), df2['rating']*1.0)\n",
    "\n",
    "bg = df['rating'].mean()\n",
    "n_users = df['userId'].max()\n",
    "n_items = df['movieId'].max()\n",
    "(n_users, n_items)"
   ]
  },
  {
   "cell_type": "code",
   "execution_count": 5,
   "metadata": {},
   "outputs": [],
   "source": [
    "train_dataloader = data.DataLoader(train, batch_size=100, shuffle=True)\n",
    "test_dataloader = data.DataLoader(test, batch_size=100)"
   ]
  },
  {
   "cell_type": "code",
   "execution_count": 6,
   "metadata": {},
   "outputs": [],
   "source": [
    "class MatrixFactorization(nn.Module):\n",
    "    def __init__(self, n_users, n_items, n_factors=40):\n",
    "        super().__init__()\n",
    "        self.user_factors = torch.nn.Embedding(n_users, n_factors)\n",
    "        self.item_factors = torch.nn.Embedding(n_items, n_factors)\n",
    "        self.user_biases = torch.nn.Embedding(n_users, 1)\n",
    "        self.item_biases = torch.nn.Embedding(n_items, 1)\n",
    "        torch.nn.init.xavier_uniform_(self.user_factors.weight)\n",
    "        torch.nn.init.xavier_uniform_(self.item_factors.weight)\n",
    "        self.user_biases.weight.data.fill_(0.)\n",
    "        self.item_biases.weight.data.fill_(0.)\n",
    "       \n",
    "\n",
    "    def forward(self, user, item, bg):\n",
    "        pred = self.user_biases(user) + self.item_biases(item)+ bg\n",
    "        pred += ((self.user_factors(user) * self.item_factors(item)).sum(dim=1, keepdim=True))\n",
    "        return pred.squeeze()"
   ]
  },
  {
   "cell_type": "code",
   "execution_count": 7,
   "metadata": {},
   "outputs": [],
   "source": [
    "model = MatrixFactorization(n_users, n_items, n_factors=50)\n",
    "loss_func = nn.MSELoss()\n",
    "l1_loss = nn.L1Loss()\n",
    "optimizer = torch.optim.SGD(model.parameters(), lr=5e-2)\n",
    "# optimizer = torch.optim.Adam(model.parameters(), lr=5e-2)\n",
    "# optimizer = torch.optim.SGD([model.user_biases.weight,model.user_factors.weight], lr=0.05, weight_decay=1e-5) # learning rate"
   ]
  },
  {
   "cell_type": "code",
   "execution_count": 8,
   "metadata": {},
   "outputs": [
    {
     "name": "stderr",
     "output_type": "stream",
     "text": [
      "/usr/local/lib/python3.8/site-packages/torch/nn/modules/loss.py:446: UserWarning: Using a target size (torch.Size([1])) that is different to the input size (torch.Size([])). This will likely lead to incorrect results due to broadcasting. Please ensure they have the same size.\n",
      "  return F.mse_loss(input, target, reduction=self.reduction)\n"
     ]
    },
    {
     "data": {
      "text/plain": [
       "157"
      ]
     },
     "execution_count": 8,
     "metadata": {},
     "output_type": "execute_result"
    }
   ],
   "source": [
    "start = time()\n",
    "epoches = 100\n",
    "L =[]\n",
    "mae=[]\n",
    "# mse=[]\n",
    "\n",
    "for epoch in range(epoches):\n",
    "    l =0.0\n",
    "    for i,( features, ratings) in enumerate(train_dataloader):\n",
    "        features = Variable(torch.LongTensor(features))\n",
    "        ratings = Variable(torch.FloatTensor(ratings.float()))\n",
    "        \n",
    "        # Predict and calculate loss for user factor and bias\n",
    "        prediction = model(features[:,0], features[:,1], bg)\n",
    "        loss = loss_func(prediction, ratings)    \n",
    "        \n",
    "        # Backpropagate\n",
    "        loss.backward()\n",
    "        \n",
    "        # Update the parameters\n",
    "        optimizer.step()\n",
    "        optimizer.zero_grad()\n",
    "        l += loss.item()\n",
    "    L.append(l)\n",
    "    \n",
    "    m = 0.0\n",
    "    total = 0\n",
    "    for j, (features, ratings) in enumerate(test_dataloader):\n",
    "        features = Variable(torch.LongTensor(features))\n",
    "        ratings = Variable(torch.FloatTensor(ratings.float()))\n",
    "\n",
    "        prediction = model(features[:,0], features[:,1], bg)\n",
    "        m += l1_loss(prediction, ratings).item()\n",
    "\n",
    "    mae.append(m/j) \n",
    "        \n",
    "round(time()-start) \n"
   ]
  },
  {
   "cell_type": "code",
   "execution_count": 9,
   "metadata": {},
   "outputs": [
    {
     "data": {
      "image/png": "[encoded data removed]",
      "text/plain": [
       "<Figure size 432x288 with 1 Axes>"
      ]
     },
     "metadata": {
      "needs_background": "light"
     },
     "output_type": "display_data"
    }
   ],
   "source": [
    "fig1 = plt.figure('Training Loss')\n",
    "x = range(len(L))\n",
    "plt.plot(x, L, color='g',linewidth=3)\n",
    "plt.title('Convergence curve')\n",
    "plt.xlabel('Iterations')\n",
    "plt.ylabel('Training Loss')\n",
    "plt.show()"
   ]
  },
  {
   "cell_type": "code",
   "execution_count": 10,
   "metadata": {},
   "outputs": [
    {
     "data": {
      "image/png": "[encoded data removed]",
      "text/plain": [
       "<Figure size 432x288 with 1 Axes>"
      ]
     },
     "metadata": {
      "needs_background": "light"
     },
     "output_type": "display_data"
    }
   ],
   "source": [
    "x = range(len(mae))\n",
    "plt.plot(x, mae, color='r',linewidth=3)\n",
    "plt.title('Convergence curve')\n",
    "plt.xlabel('Iterations')\n",
    "plt.ylabel('Test MAE')\n",
    "plt.show()"
   ]
  },
  {
   "cell_type": "code",
   "execution_count": 11,
   "metadata": {},
   "outputs": [],
   "source": [
    "pred = []\n",
    "for j, (features, ratings) in enumerate(test_dataloader):\n",
    "    features = Variable(torch.LongTensor(features))\n",
    "    ratings = Variable(torch.FloatTensor(ratings.float()))\n",
    "\n",
    "    prediction = model(features[:,0], features[:,1], bg)\n",
    "    pred.extend(prediction.tolist())"
   ]
  },
  {
   "cell_type": "code",
   "execution_count": 12,
   "metadata": {},
   "outputs": [
    {
     "data": {
      "text/plain": [
       "0.7293958299129863"
      ]
     },
     "execution_count": 12,
     "metadata": {},
     "output_type": "execute_result"
    }
   ],
   "source": [
    "target=df2['rating']\n",
    "pred=torch.tensor(pred).round()\n",
    "target = torch.tensor(target)"
   ]
  },
  {
   "cell_type": "code",
   "execution_count": 24,
   "metadata": {},
   "outputs": [
    {
     "data": {
      "text/plain": [
       "tensor(0.7294)"
      ]
     },
     "execution_count": 24,
     "metadata": {},
     "output_type": "execute_result"
    }
   ],
   "source": [
    "l1_loss(pred.float(), target)"
   ]
  },
  {
   "cell_type": "code",
   "execution_count": null,
   "metadata": {},
   "outputs": [],
   "source": []
  }
 ],
 "metadata": {
  "kernelspec": {
   "display_name": "Python 3",
   "language": "python",
   "name": "python3"
  },
  "language_info": {
   "codemirror_mode": {
    "name": "ipython",
    "version": 3
   },
   "file_extension": ".py",
   "mimetype": "text/x-python",
   "name": "python",
   "nbconvert_exporter": "python",
   "pygments_lexer": "ipython3",
   "version": "3.8.6"
  }
 },
 "nbformat": 4,
 "nbformat_minor": 4
}
