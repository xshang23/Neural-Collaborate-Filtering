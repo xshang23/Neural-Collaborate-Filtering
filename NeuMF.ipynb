{
 "cells": [
  {
   "cell_type": "code",
   "execution_count": 1,
   "metadata": {},
   "outputs": [],
   "source": [
    "import pandas as pd\n",
    "import torch\n",
    "from torch import nn\n",
    "from torch.autograd import Variable\n",
    "from time import time\n",
    "import torch.utils.data as data\n",
    "import matplotlib.pyplot as plt"
   ]
  },
  {
   "cell_type": "code",
   "execution_count": 2,
   "metadata": {},
   "outputs": [
    {
     "name": "stdout",
     "output_type": "stream",
     "text": [
      "100000\n"
     ]
    },
    {
     "data": {
      "text/html": [
       "<div>\n",
       "<style scoped>\n",
       "    .dataframe tbody tr th:only-of-type {\n",
       "        vertical-align: middle;\n",
       "    }\n",
       "\n",
       "    .dataframe tbody tr th {\n",
       "        vertical-align: top;\n",
       "    }\n",
       "\n",
       "    .dataframe thead th {\n",
       "        text-align: right;\n",
       "    }\n",
       "</style>\n",
       "<table border=\"1\" class=\"dataframe\">\n",
       "  <thead>\n",
       "    <tr style=\"text-align: right;\">\n",
       "      <th></th>\n",
       "      <th>userId</th>\n",
       "      <th>movieId</th>\n",
       "      <th>rating</th>\n",
       "      <th>timestamp</th>\n",
       "    </tr>\n",
       "  </thead>\n",
       "  <tbody>\n",
       "    <tr>\n",
       "      <th>0</th>\n",
       "      <td>196</td>\n",
       "      <td>242</td>\n",
       "      <td>3</td>\n",
       "      <td>881250949</td>\n",
       "    </tr>\n",
       "    <tr>\n",
       "      <th>1</th>\n",
       "      <td>186</td>\n",
       "      <td>302</td>\n",
       "      <td>3</td>\n",
       "      <td>891717742</td>\n",
       "    </tr>\n",
       "    <tr>\n",
       "      <th>2</th>\n",
       "      <td>22</td>\n",
       "      <td>377</td>\n",
       "      <td>1</td>\n",
       "      <td>878887116</td>\n",
       "    </tr>\n",
       "    <tr>\n",
       "      <th>3</th>\n",
       "      <td>244</td>\n",
       "      <td>51</td>\n",
       "      <td>2</td>\n",
       "      <td>880606923</td>\n",
       "    </tr>\n",
       "    <tr>\n",
       "      <th>4</th>\n",
       "      <td>166</td>\n",
       "      <td>346</td>\n",
       "      <td>1</td>\n",
       "      <td>886397596</td>\n",
       "    </tr>\n",
       "  </tbody>\n",
       "</table>\n",
       "</div>"
      ],
      "text/plain": [
       "   userId  movieId  rating  timestamp\n",
       "0     196      242       3  881250949\n",
       "1     186      302       3  891717742\n",
       "2      22      377       1  878887116\n",
       "3     244       51       2  880606923\n",
       "4     166      346       1  886397596"
      ]
     },
     "execution_count": 2,
     "metadata": {},
     "output_type": "execute_result"
    }
   ],
   "source": [
    "# df = pd.read_csv('train1.csv')\n",
    "# df2 = pd.read_csv('testAll.csv')\n",
    "\n",
    "df = pd.read_csv('ml-100k.csv')\n",
    "print(len(df))\n",
    "df.head()"
   ]
  },
  {
   "cell_type": "code",
   "execution_count": 3,
   "metadata": {},
   "outputs": [],
   "source": [
    "class RatingDataset(data.Dataset):\n",
    "    def __init__(self, users, items, ratings):\n",
    "        self.users = users \n",
    "        self.items =items\n",
    "        self.rating = ratings\n",
    "    \n",
    "    def __len__(self):\n",
    "        return len(self.rating)\n",
    "    \n",
    "    def __getitem__(self, idx):\n",
    "        return torch.tensor(self.users[idx]),torch.tensor(self.items[idx]), torch.tensor(self.rating[idx])  "
   ]
  },
  {
   "cell_type": "code",
   "execution_count": 4,
   "metadata": {},
   "outputs": [
    {
     "data": {
      "text/plain": [
       "(943, 1682)"
      ]
     },
     "execution_count": 4,
     "metadata": {},
     "output_type": "execute_result"
    }
   ],
   "source": [
    "# load data\n",
    "\n",
    "# train = RatingDataset(df['userId']-1, df['movieId']-1, df['rating']*1.0)\n",
    "# test = RatingDataset(df2['userId']-1, df2['movieId']-1, df2['rating']*1.0)\n",
    "\n",
    "data_size = len(df['rating'])\n",
    "train_size = round(data_size*0.8)\n",
    "dataset = RatingDataset(df['userId']-1, df['movieId']-1, df['rating']*1.0)\n",
    "train, test = data.random_split(dataset, [train_size, data_size-train_size])\n",
    "\n",
    "bg = df['rating'][:train_size].mean()\n",
    "n_users = df['userId'].max()\n",
    "n_items = df['movieId'].max()\n",
    "(n_users, n_items)"
   ]
  },
  {
   "cell_type": "code",
   "execution_count": 5,
   "metadata": {},
   "outputs": [],
   "source": [
    "train_dataloader = data.DataLoader(train, batch_size=100, shuffle=True)\n",
    "test_dataloader = data.DataLoader(test, batch_size=100)"
   ]
  },
  {
   "cell_type": "code",
   "execution_count": 6,
   "metadata": {},
   "outputs": [],
   "source": [
    "class GMF(nn.Module):\n",
    "    def __init__(self, n_users, n_items, bg, n_factors=40):\n",
    "        super().__init__()\n",
    "        self.n_users = n_users\n",
    "        self.n_items = n_items\n",
    "        self.bg = bg\n",
    "        self.n_factors = n_factors\n",
    "        \n",
    "        self.user_factors = nn.Embedding(n_users, n_factors)\n",
    "        self.item_factors = nn.Embedding(n_items, n_factors)\n",
    "        self.user_biases = nn.Embedding(n_users, 1)\n",
    "        self.item_biases = nn.Embedding(n_items, 1)\n",
    "        \n",
    "        nn.init.xavier_uniform_(self.user_factors.weight)\n",
    "        nn.init.xavier_uniform_(self.item_factors.weight)\n",
    "        self.user_biases.weight.data.fill_(0.)\n",
    "        self.item_biases.weight.data.fill_(0.)\n",
    "\n",
    "#         self.output = nn.Linear(in_features=self.n_factors, out_features=1)\n",
    "#         self.logistic = torch.nn.Sigmoid()\n",
    "\n",
    "    def forward(self, user, item):\n",
    "        ratings = self.user_biases(user) + self.item_biases(item)+ self.bg\n",
    "        ratings += ((self.user_factors(user) * self.item_factors(item)).sum(dim=1, keepdim=True))\n",
    "        return ratings.squeeze()\n",
    "    \n",
    "#     def forward(self, users, items):\n",
    "#         user_factors = self.user_factors(users)\n",
    "#         item_factors = self.item_factors(items)\n",
    "#         element_product = torch.mul(user_factors, item_factors)\n",
    "#         ratings = self.output(element_product)\n",
    "# #         rating = self.logistic(logits)\n",
    "#         return ratings\n"
   ]
  },
  {
   "cell_type": "code",
   "execution_count": 7,
   "metadata": {},
   "outputs": [],
   "source": [
    "class MLP(nn.Module):\n",
    "    def __init__(self, n_users, n_items, n_factors=8,layers =[16,64,32,16,8]):\n",
    "        super().__init__()\n",
    "        self.n_users = n_users\n",
    "        self.n_items = n_items\n",
    "        self.n_factors = n_factors\n",
    "\n",
    "        self.user_factors = nn.Embedding(n_users, n_factors)\n",
    "        self.item_factors = nn.Embedding(n_items, n_factors)\n",
    "        \n",
    "        self.fc_layers = nn.ModuleList()\n",
    "        for idx, (in_size, out_size) in enumerate(zip(layers[:-1], layers[1:])):\n",
    "            self.fc_layers.append(torch.nn.Linear(in_size, out_size))\n",
    "\n",
    "        self.output = nn.Linear(in_features=layers[-1], out_features=1)\n",
    "#         self.logistic = torch.nn.Sigmoid()\n",
    "\n",
    "    def forward(self, users, items):\n",
    "        user_factors = self.user_factors(users)\n",
    "        item_factors = self.item_factors(items)\n",
    "        vector = torch.cat([user_factors, item_factors], dim=-1)  # the concat latent vector\n",
    "        for idx, _ in enumerate(range(len(self.fc_layers))):\n",
    "            vector = self.fc_layers[idx](vector)\n",
    "            vector = nn.ReLU()(vector)\n",
    "            # vector = torch.nn.BatchNorm1d()(vector)\n",
    "            # vector = torch.nn.Dropout(p=0.5)(vector)\n",
    "        ratings = self.output(vector)\n",
    "#         rating = self.logistic(logits)\n",
    "        return ratings.squeeze()"
   ]
  },
  {
   "cell_type": "code",
   "execution_count": 8,
   "metadata": {},
   "outputs": [],
   "source": [
    "class NeuMF(nn.Module):\n",
    "    def __init__(self, n_users, n_items, n_factors_mf=50,n_factors_mlp=8,layers =[16,64,32,16,8]):\n",
    "        super().__init__()\n",
    "        self.n_users = n_users\n",
    "        self.n_items = n_items\n",
    "        self.n_factors_mf = n_factors_mf\n",
    "        self.n_factors_mlp = n_factors_mlp\n",
    "        \n",
    "        self.user_factor_mlp = nn.Embedding(n_users, n_factors_mlp)\n",
    "        self.item_factor_mlp = nn.Embedding(n_items, n_factors_mlp)\n",
    "        self.user_factor_mf = nn.Embedding(n_users, n_factors_mf)\n",
    "        self.item_factor_mf = nn.Embedding(n_items, n_factors_mf)\n",
    "        self.init_weight()\n",
    "        \n",
    "        self.fc_layers = nn.ModuleList()\n",
    "        for idx, (in_size, out_size) in enumerate(zip(layers[:-1], layers[1:])):\n",
    "            self.fc_layers.append(torch.nn.Linear(in_size, out_size))\n",
    "\n",
    "        self.output = nn.Linear(in_features=layers[-1] + n_factors_mf, out_features=1)\n",
    "#         self.logistic = torch.nn.Sigmoid()\n",
    "\n",
    "    def forward(self, users, items):\n",
    "        dropout = nn.Dropout(p=0.2)\n",
    "        user_mlp = self.user_factor_mlp(users)\n",
    "        item_mlp = self.item_factor_mlp(items)\n",
    "        user_mf = self.user_factor_mf(users)\n",
    "        item_mf = self.item_factor_mf(items)\n",
    "\n",
    "        mf_vector = torch.mul(user_mf, item_mf)\n",
    "        mf_vector = dropout(mf_vector)\n",
    "        \n",
    "        mlp_vector = torch.cat([user_mlp, item_mlp], dim=-1)  # the concat latent vector\n",
    "        for idx, _ in enumerate(range(len(self.fc_layers))):\n",
    "            mlp_vector = self.fc_layers[idx](mlp_vector)\n",
    "            mlp_vector = nn.ReLU()(mlp_vector)\n",
    "        mlp_vector = dropout(mlp_vector)\n",
    "        \n",
    "        vector = torch.cat([mlp_vector, mf_vector], dim=-1)\n",
    "        ratings = self.output(vector)\n",
    "#         rating = self.logistic(logits)\n",
    "        return ratings.squeeze()\n",
    "    \n",
    "    def init_weight(self):\n",
    "        nn.init.xavier_uniform_(self.user_factor_mlp.weight)\n",
    "        nn.init.xavier_uniform_(self.item_factor_mlp.weight)\n",
    "        nn.init.xavier_uniform_(self.user_factor_mf.weight)\n",
    "        nn.init.xavier_uniform_(self.item_factor_mf.weight)"
   ]
  },
  {
   "cell_type": "code",
   "execution_count": 9,
   "metadata": {},
   "outputs": [],
   "source": [
    "model = NeuMF(n_users, n_items)\n",
    "# model = GMF(n_users, n_items, bg)\n",
    "loss_func = nn.MSELoss()\n",
    "l1_loss = nn.L1Loss(reduction='sum')\n",
    "optimizer = torch.optim.SGD(model.parameters(), lr=0.05, momentum=0.9)"
   ]
  },
  {
   "cell_type": "code",
   "execution_count": 10,
   "metadata": {},
   "outputs": [
    {
     "name": "stdout",
     "output_type": "stream",
     "text": [
      "2.45\n"
     ]
    }
   ],
   "source": [
    "start = time()\n",
    "epoches = 20\n",
    "L =[]\n",
    "mae=[]\n",
    "\n",
    "for epoch in range(epoches):\n",
    "    l =0.0\n",
    "    for i,(users, items, ratings) in enumerate(train_dataloader):\n",
    "        users = Variable(torch.LongTensor(users))\n",
    "        items = Variable(torch.LongTensor(items))\n",
    "        ratings = Variable(torch.FloatTensor(ratings.float()))\n",
    "        \n",
    "        # Predict and calculate loss for user factor and bias\n",
    "        prediction = model(users, items)\n",
    "        \n",
    "        loss = loss_func(prediction.squeeze(), ratings)    \n",
    "        \n",
    "        # Backpropagate\n",
    "        loss.backward()\n",
    "        \n",
    "        # Update the parameters\n",
    "        optimizer.step()\n",
    "        optimizer.zero_grad()\n",
    "        l += loss.item()\n",
    "    L.append(l)\n",
    "    \n",
    "    m = 0.0\n",
    "    total = 0\n",
    "    for j, (users, items, ratings) in enumerate(test_dataloader):\n",
    "        users = Variable(torch.LongTensor(users))\n",
    "        items = Variable(torch.LongTensor(items))\n",
    "        ratings = Variable(torch.FloatTensor(ratings.float()))\n",
    "\n",
    "        prediction = model(users, items)\n",
    "        m += l1_loss(prediction.round().squeeze(), ratings).item()\n",
    "        total += ratings.size(0)\n",
    "    m/=total\n",
    "#     if len(mae)!=0 and m > mae[-1]: break\n",
    "    mae.append(m) \n",
    "        \n",
    "print(round((time()-start)/60,2))"
   ]
  },
  {
   "cell_type": "code",
   "execution_count": 11,
   "metadata": {},
   "outputs": [
    {
     "data": {
      "image/png": "[encoded data removed]",
      "text/plain": [
       "<Figure size 432x288 with 1 Axes>"
      ]
     },
     "metadata": {
      "needs_background": "light"
     },
     "output_type": "display_data"
    }
   ],
   "source": [
    "fig1 = plt.figure('Training Loss')\n",
    "x = range(len(L))\n",
    "plt.plot(x, L, color='g',linewidth=3)\n",
    "plt.title('Convergence curve')\n",
    "plt.xlabel('Iterations')\n",
    "plt.ylabel('Training Loss')\n",
    "plt.show()"
   ]
  },
  {
   "cell_type": "code",
   "execution_count": 12,
   "metadata": {},
   "outputs": [
    {
     "data": {
      "image/png": "[encoded data removed]",
      "text/plain": [
       "<Figure size 432x288 with 1 Axes>"
      ]
     },
     "metadata": {
      "needs_background": "light"
     },
     "output_type": "display_data"
    }
   ],
   "source": [
    "x = range(len(mae))\n",
    "plt.plot(x, mae, color='r',linewidth=3)\n",
    "plt.title('Convergence curve')\n",
    "plt.xlabel('Iterations')\n",
    "plt.ylabel('Test MAE')\n",
    "plt.show()"
   ]
  },
  {
   "cell_type": "code",
   "execution_count": 13,
   "metadata": {},
   "outputs": [
    {
     "data": {
      "text/plain": [
       "0.7307"
      ]
     },
     "execution_count": 13,
     "metadata": {},
     "output_type": "execute_result"
    }
   ],
   "source": [
    "m = 0.0\n",
    "total = 0\n",
    "# pred = []\n",
    "for j, (users, items, ratings) in enumerate(test_dataloader):\n",
    "    users = Variable(torch.LongTensor(users))\n",
    "    items = Variable(torch.LongTensor(items))\n",
    "    ratings = Variable(torch.FloatTensor(ratings.float()))\n",
    "\n",
    "    prediction = model(users, items)\n",
    "    m += l1_loss(prediction.round().squeeze(), ratings).item()\n",
    "    total += ratings.size(0)\n",
    "#     pred.extend(prediction.tolist())\n",
    "m/=total\n",
    "m"
   ]
  },
  {
   "cell_type": "code",
   "execution_count": null,
   "metadata": {},
   "outputs": [],
   "source": []
  }
 ],
 "metadata": {
  "kernelspec": {
   "display_name": "Python 3",
   "language": "python",
   "name": "python3"
  },
  "language_info": {
   "codemirror_mode": {
    "name": "ipython",
    "version": 3
   },
   "file_extension": ".py",
   "mimetype": "text/x-python",
   "name": "python",
   "nbconvert_exporter": "python",
   "pygments_lexer": "ipython3",
   "version": "3.8.6"
  }
 },
 "nbformat": 4,
 "nbformat_minor": 4
}
